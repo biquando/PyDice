{
 "cells": [
  {
   "cell_type": "code",
   "execution_count": 1,
   "id": "9961414f-f4eb-4e88-b2de-4aae136c134b",
   "metadata": {},
   "outputs": [],
   "source": [
    "from pathlib import Path\n",
    "from datetime import datetime\n",
    "\n",
    "import pandas as pd\n",
    "\n",
    "from main import execute_from_file"
   ]
  },
  {
   "cell_type": "code",
   "execution_count": 2,
   "id": "40ef3eda-1384-49d2-9682-56f989541f65",
   "metadata": {},
   "outputs": [
    {
     "data": {
      "text/plain": [
       "[PosixPath('/Users/nathanhuey/coding/school/cs267a/final_project/benchmarks/alarm.dice'),\n",
       " PosixPath('/Users/nathanhuey/coding/school/cs267a/final_project/benchmarks/dice_recognition.dice'),\n",
       " PosixPath('/Users/nathanhuey/coding/school/cs267a/final_project/benchmarks/evidence_1.dice'),\n",
       " PosixPath('/Users/nathanhuey/coding/school/cs267a/final_project/benchmarks/evidence_2.dice'),\n",
       " PosixPath('/Users/nathanhuey/coding/school/cs267a/final_project/benchmarks/grass.dice'),\n",
       " PosixPath('/Users/nathanhuey/coding/school/cs267a/final_project/benchmarks/murder_mystery.dice'),\n",
       " PosixPath('/Users/nathanhuey/coding/school/cs267a/final_project/benchmarks/noisy_or.dice'),\n",
       " PosixPath('/Users/nathanhuey/coding/school/cs267a/final_project/benchmarks/two_coins.dice')]"
      ]
     },
     "execution_count": 2,
     "metadata": {},
     "output_type": "execute_result"
    }
   ],
   "source": [
    "benchmark_dir = Path(\"../benchmarks/\").resolve()\n",
    "assert benchmark_dir.exists()\n",
    "\n",
    "benchmarks = list(sorted(benchmark_dir.glob(\"*.dice\")))\n",
    "benchmarks"
   ]
  },
  {
   "cell_type": "code",
   "execution_count": 3,
   "id": "6219159f-550f-4d07-b330-ced5d5bb6ed6",
   "metadata": {},
   "outputs": [
    {
     "name": "stdout",
     "output_type": "stream",
     "text": [
      "failed alarm\n",
      "failed dice_recognition\n",
      "failed evidence_1\n",
      "failed evidence_2\n",
      "failed grass\n",
      "failed murder_mystery\n",
      "failed noisy_or\n",
      "failed two_coins\n"
     ]
    }
   ],
   "source": [
    "results = {\"name\": [], \"time (ms)\": []}\n",
    "num_iter = 20\n",
    "\n",
    "for benchmark in benchmarks:\n",
    "    name = benchmark.name.split(\".\")[0]\n",
    "    low, high = float(\"inf\"), float(\"-inf\")\n",
    "    avg = 0\n",
    "    try: \n",
    "        for i in range(1, num_iter+1):\n",
    "            start = datetime.now()\n",
    "            execute_from_file(benchmark)\n",
    "            end = datetime.now()\n",
    "            \n",
    "            ms = (end - start).microseconds / 1000\n",
    "            avg = (avg * (i-1) + ms) / i\n",
    "    except Exception as e:\n",
    "        print(f'failed {name}')\n",
    "        continue\n",
    "\n",
    "    \n",
    "    print(f\"{name}: {round(avg)}ms\")\n",
    "\n",
    "    results[\"name\"].append(name)\n",
    "    results[\"time (ms)\"].append(round(avg))\n",
    "\n",
    "results_df = pd.DataFrame(results)"
   ]
  },
  {
   "cell_type": "code",
   "execution_count": 4,
   "id": "53af27b4-a4e0-4a98-8ce9-befcbcf00c79",
   "metadata": {},
   "outputs": [
    {
     "data": {
      "text/html": [
       "<div>\n",
       "<style scoped>\n",
       "    .dataframe tbody tr th:only-of-type {\n",
       "        vertical-align: middle;\n",
       "    }\n",
       "\n",
       "    .dataframe tbody tr th {\n",
       "        vertical-align: top;\n",
       "    }\n",
       "\n",
       "    .dataframe thead th {\n",
       "        text-align: right;\n",
       "    }\n",
       "</style>\n",
       "<table border=\"1\" class=\"dataframe\">\n",
       "  <thead>\n",
       "    <tr style=\"text-align: right;\">\n",
       "      <th></th>\n",
       "      <th>name</th>\n",
       "      <th>time (ms)</th>\n",
       "    </tr>\n",
       "  </thead>\n",
       "  <tbody>\n",
       "  </tbody>\n",
       "</table>\n",
       "</div>"
      ],
      "text/plain": [
       "Empty DataFrame\n",
       "Columns: [name, time (ms)]\n",
       "Index: []"
      ]
     },
     "execution_count": 4,
     "metadata": {},
     "output_type": "execute_result"
    }
   ],
   "source": [
    "results_df"
   ]
  },
  {
   "cell_type": "code",
   "execution_count": null,
   "id": "ea8f2201-2c76-48a1-9137-7b6545a24be5",
   "metadata": {},
   "outputs": [],
   "source": []
  }
 ],
 "metadata": {
  "kernelspec": {
   "display_name": "Python 3 (ipykernel)",
   "language": "python",
   "name": "python3"
  },
  "language_info": {
   "codemirror_mode": {
    "name": "ipython",
    "version": 3
   },
   "file_extension": ".py",
   "mimetype": "text/x-python",
   "name": "python",
   "nbconvert_exporter": "python",
   "pygments_lexer": "ipython3",
   "version": "3.12.9"
  }
 },
 "nbformat": 4,
 "nbformat_minor": 5
}
